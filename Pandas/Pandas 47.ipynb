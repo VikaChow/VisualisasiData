{
 "cells": [
  {
   "cell_type": "markdown",
   "id": "10b93372-7cd2-4d6a-9bce-47c949dee81f",
   "metadata": {},
   "source": [
    "# 47: Deteksi dan penanganan kolom dengan tipe data beragam (mixed data types)"
   ]
  },
  {
   "cell_type": "markdown",
   "id": "2feaf762-aba6-4c57-839f-d3d4ed0489a1",
   "metadata": {},
   "source": [
    "# Import Modules"
   ]
  },
  {
   "cell_type": "code",
   "execution_count": 3,
   "id": "7938a4b1-89ce-47ac-ad08-2d9253ae2c6b",
   "metadata": {},
   "outputs": [
    {
     "name": "stdout",
     "output_type": "stream",
     "text": [
      "2.2.2\n"
     ]
    }
   ],
   "source": [
    "import pandas as pd\n",
    "\n",
    "print(pd.__version__)"
   ]
  },
  {
   "cell_type": "markdown",
   "id": "f7acce6c-0311-41e6-81fd-ad5d982ea720",
   "metadata": {},
   "source": [
    "# Persiapan Data Frame"
   ]
  },
  {
   "cell_type": "code",
   "execution_count": 8,
   "id": "471ce6ff-9e30-4a77-b044-e67ddcf860f5",
   "metadata": {},
   "outputs": [
    {
     "data": {
      "text/html": [
       "<div>\n",
       "<style scoped>\n",
       "    .dataframe tbody tr th:only-of-type {\n",
       "        vertical-align: middle;\n",
       "    }\n",
       "\n",
       "    .dataframe tbody tr th {\n",
       "        vertical-align: top;\n",
       "    }\n",
       "\n",
       "    .dataframe thead th {\n",
       "        text-align: right;\n",
       "    }\n",
       "</style>\n",
       "<table border=\"1\" class=\"dataframe\">\n",
       "  <thead>\n",
       "    <tr style=\"text-align: right;\">\n",
       "      <th></th>\n",
       "      <th>nama</th>\n",
       "      <th>ipk</th>\n",
       "    </tr>\n",
       "  </thead>\n",
       "  <tbody>\n",
       "    <tr>\n",
       "      <th>0</th>\n",
       "      <td>bejo</td>\n",
       "      <td>2</td>\n",
       "    </tr>\n",
       "    <tr>\n",
       "      <th>1</th>\n",
       "      <td>tejo</td>\n",
       "      <td>3</td>\n",
       "    </tr>\n",
       "    <tr>\n",
       "      <th>2</th>\n",
       "      <td>wati</td>\n",
       "      <td>3</td>\n",
       "    </tr>\n",
       "    <tr>\n",
       "      <th>3</th>\n",
       "      <td>tiwi</td>\n",
       "      <td>2.75</td>\n",
       "    </tr>\n",
       "    <tr>\n",
       "      <th>4</th>\n",
       "      <td>cecep</td>\n",
       "      <td>3.25</td>\n",
       "    </tr>\n",
       "  </tbody>\n",
       "</table>\n",
       "</div>"
      ],
      "text/plain": [
       "    nama   ipk\n",
       "0   bejo     2\n",
       "1   tejo     3\n",
       "2   wati     3\n",
       "3   tiwi  2.75\n",
       "4  cecep  3.25"
      ]
     },
     "execution_count": 8,
     "metadata": {},
     "output_type": "execute_result"
    }
   ],
   "source": [
    "d = {'nama':['bejo', 'tejo', 'wati', 'tiwi', 'cecep'], \n",
    "     'ipk':[2, '3', 3, 2.75, '3.25']}\n",
    "df = pd.DataFrame(d)\n",
    "df"
   ]
  },
  {
   "cell_type": "markdown",
   "id": "a3315fed-3a34-4332-8aa6-3a332e87023b",
   "metadata": {},
   "source": [
    "# Deteksi dan penanganan kolom dengan tipe data beragam (mixed data types"
   ]
  },
  {
   "cell_type": "code",
   "execution_count": 11,
   "id": "cb63ed5a-cb5d-4572-b3e9-445cff915b3d",
   "metadata": {},
   "outputs": [
    {
     "data": {
      "text/plain": [
       "nama    object\n",
       "ipk     object\n",
       "dtype: object"
      ]
     },
     "execution_count": 11,
     "metadata": {},
     "output_type": "execute_result"
    }
   ],
   "source": [
    "df.dtypes"
   ]
  },
  {
   "cell_type": "code",
   "execution_count": 13,
   "id": "d6ac40de-98c5-4716-a7dc-a92c64510365",
   "metadata": {},
   "outputs": [
    {
     "data": {
      "text/plain": [
       "0      <class 'int'>\n",
       "1      <class 'str'>\n",
       "2      <class 'int'>\n",
       "3    <class 'float'>\n",
       "4      <class 'str'>\n",
       "Name: ipk, dtype: object"
      ]
     },
     "execution_count": 13,
     "metadata": {},
     "output_type": "execute_result"
    }
   ],
   "source": [
    "df['ipk'].apply(type)"
   ]
  },
  {
   "cell_type": "code",
   "execution_count": 15,
   "id": "9196ece1-aa7b-4232-9ac1-fc285a017b4a",
   "metadata": {},
   "outputs": [
    {
     "data": {
      "text/plain": [
       "ipk\n",
       "<class 'int'>      2\n",
       "<class 'str'>      2\n",
       "<class 'float'>    1\n",
       "Name: count, dtype: int64"
      ]
     },
     "execution_count": 15,
     "metadata": {},
     "output_type": "execute_result"
    }
   ],
   "source": [
    "df['ipk'].apply(type).value_counts()"
   ]
  },
  {
   "cell_type": "code",
   "execution_count": 27,
   "id": "0a790118-2266-492b-bbbd-524e931ba912",
   "metadata": {},
   "outputs": [
    {
     "name": "stdout",
     "output_type": "stream",
     "text": [
      "    nama   ipk\n",
      "0   bejo  2.00\n",
      "1   tejo  3.00\n",
      "2   wati  3.00\n",
      "3   tiwi  2.75\n",
      "4  cecep  3.25\n"
     ]
    }
   ],
   "source": [
    "df['ipk'] = df['ipk'].astype(float)\n",
    "print(df.head())"
   ]
  },
  {
   "cell_type": "code",
   "execution_count": 23,
   "id": "f5d5728c-9d79-4dc8-abe8-9a3d0030cbff",
   "metadata": {},
   "outputs": [
    {
     "data": {
      "text/plain": [
       "ipk\n",
       "<class 'float'>    5\n",
       "Name: count, dtype: int64"
      ]
     },
     "execution_count": 23,
     "metadata": {},
     "output_type": "execute_result"
    }
   ],
   "source": [
    "df['ipk'].apply(type).value_counts()"
   ]
  },
  {
   "cell_type": "code",
   "execution_count": null,
   "id": "b9f3a221-a3e6-4b4a-96a1-27a87d5ccae8",
   "metadata": {},
   "outputs": [],
   "source": []
  }
 ],
 "metadata": {
  "kernelspec": {
   "display_name": "Python 3 (ipykernel)",
   "language": "python",
   "name": "python3"
  },
  "language_info": {
   "codemirror_mode": {
    "name": "ipython",
    "version": 3
   },
   "file_extension": ".py",
   "mimetype": "text/x-python",
   "name": "python",
   "nbconvert_exporter": "python",
   "pygments_lexer": "ipython3",
   "version": "3.12.7"
  }
 },
 "nbformat": 4,
 "nbformat_minor": 5
}
