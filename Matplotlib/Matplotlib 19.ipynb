{
 "cells": [
  {
   "cell_type": "markdown",
   "id": "12590a49-29ef-4113-97aa-79f9001a4059",
   "metadata": {},
   "source": [
    "# Import Modules"
   ]
  },
  {
   "cell_type": "code",
   "execution_count": 2,
   "id": "c358751c-1401-4320-99d7-0351eb8a0522",
   "metadata": {},
   "outputs": [],
   "source": [
    "%matplotlib inline"
   ]
  },
  {
   "cell_type": "code",
   "execution_count": 22,
   "id": "9d244003-3091-464a-b607-b09b7c2225df",
   "metadata": {},
   "outputs": [
    {
     "name": "stdout",
     "output_type": "stream",
     "text": [
      "3.9.2\n",
      "1.26.4\n"
     ]
    }
   ],
   "source": [
    "import matplotlib\n",
    "import matplotlib.pyplot as plt\n",
    "from matplotlib.animation import FuncAnimation\n",
    "from IPython import display\n",
    "import numpy as np\n",
    "import matplotlib as mpl\n",
    "mpl.rcParams['animation.writer'] = 'pillow'\n",
    "\n",
    "\n",
    "print(matplotlib.__version__)\n",
    "print(np.__version__)"
   ]
  },
  {
   "cell_type": "markdown",
   "id": "e9a20def-8f70-4948-acc0-0eba7f6429ae",
   "metadata": {},
   "source": [
    "# Review Figure"
   ]
  },
  {
   "cell_type": "code",
   "execution_count": 7,
   "id": "c5a14b94-1542-4aa9-9dcf-64c23248be38",
   "metadata": {},
   "outputs": [
    {
     "name": "stdout",
     "output_type": "stream",
     "text": [
      "[<matplotlib.lines.Line2D object at 0x000002278D06AC60>]\n"
     ]
    }
   ],
   "source": [
    "fig = plt.figure()\n",
    "plt.xlim((0, 8))\n",
    "plt.ylim((-4, 2))\n",
    "\n",
    "print(plt.plot([]))"
   ]
  },
  {
   "cell_type": "markdown",
   "id": "d07e9cbc-1ee4-4ce4-8fb3-42794d91a1c7",
   "metadata": {},
   "source": [
    "# Animasi pada Matplotlib"
   ]
  },
  {
   "cell_type": "code",
   "execution_count": null,
   "id": "01b3fb3b-e3dc-4eb9-8116-39399feea959",
   "metadata": {},
   "outputs": [],
   "source": [
    "fig = plt.figure()\n",
    "plt.xlim((0,4))\n",
    "plt.ylim((-2,2))\n",
    "line = plt.plot([])[0]\n",
    "\n",
    "def animate(i):\n",
    "    x = np.linspace(0,4,1000)\n",
    "    y = np.sin(2 * np.pi * (x -0.01 * i))\n",
    "    line.set_data(x, y)\n",
    "    return line,\n",
    "\n",
    "anim = FuncAnimation(fig,animate,frames=200,interval=50)\n",
    "video = anim.to_html5_video()\n",
    "html = display.HTML(video)\n",
    "display.display(html)\n",
    "\n",
    "plt.close()"
   ]
  },
  {
   "cell_type": "code",
   "execution_count": null,
   "id": "0a5fd4be-f04d-4cd2-931f-89c17abd9153",
   "metadata": {},
   "outputs": [],
   "source": []
  }
 ],
 "metadata": {
  "kernelspec": {
   "display_name": "Python 3 (ipykernel)",
   "language": "python",
   "name": "python3"
  },
  "language_info": {
   "codemirror_mode": {
    "name": "ipython",
    "version": 3
   },
   "file_extension": ".py",
   "mimetype": "text/x-python",
   "name": "python",
   "nbconvert_exporter": "python",
   "pygments_lexer": "ipython3",
   "version": "3.12.7"
  }
 },
 "nbformat": 4,
 "nbformat_minor": 5
}
